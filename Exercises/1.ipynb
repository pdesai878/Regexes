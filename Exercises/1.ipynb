{
 "cells": [
  {
   "cell_type": "markdown",
   "metadata": {},
   "source": [
    "# Check if the text passed contains the vowels a,e and i with exactly one occurence of any other character in between.\n"
   ]
  },
  {
   "cell_type": "code",
   "execution_count": 3,
   "metadata": {},
   "outputs": [
    {
     "name": "stdout",
     "output_type": "stream",
     "text": [
      "True\n",
      "False\n",
      "True\n"
     ]
    }
   ],
   "source": [
    "import re\n",
    "def check_aei(text):\n",
    "    result=re.search(r\"a.e.i\",text)\n",
    "    return result!=None\n",
    "\n",
    "print(check_aei(\"academia\"))  #True\n",
    "print(check_aei(\"aerial\"))    #False\n",
    "print(check_aei(\"paramedic\")) #True"
   ]
  },
  {
   "cell_type": "markdown",
   "metadata": {},
   "source": [
    " # What if we want our matching to be case insensitve?"
   ]
  },
  {
   "cell_type": "raw",
   "metadata": {},
   "source": [
    " #we then use an attribute of re.search => re.IGNORECASE\n",
    " print(re.search(pattern,string,re.IGNORECASE))\n",
    " "
   ]
  }
 ],
 "metadata": {
  "kernelspec": {
   "display_name": "Python 3",
   "language": "python",
   "name": "python3"
  },
  "language_info": {
   "codemirror_mode": {
    "name": "ipython",
    "version": 3
   },
   "file_extension": ".py",
   "mimetype": "text/x-python",
   "name": "python",
   "nbconvert_exporter": "python",
   "pygments_lexer": "ipython3",
   "version": "3.7.6"
  }
 },
 "nbformat": 4,
 "nbformat_minor": 4
}
