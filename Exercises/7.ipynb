{
 "cells": [
  {
   "cell_type": "markdown",
   "metadata": {},
   "source": [
    "# The check_web_address function checks if the text passed qualifies as a top-level web address, meaning that it contains alphanumeric characters (which includes letters, numbers, and underscores), as well as periods, dashes, and a plus sign, followed by a period and a character-only top-level domain such as \".com\", \".info\", \".edu\", etc. "
   ]
  },
  {
   "cell_type": "code",
   "execution_count": 1,
   "metadata": {},
   "outputs": [
    {
     "name": "stdout",
     "output_type": "stream",
     "text": [
      "True\n",
      "False\n",
      "True\n",
      "False\n",
      "True\n"
     ]
    }
   ],
   "source": [
    "import re\n",
    "def check_web_address(text):\n",
    "  pattern = \"^[a-zA-Z_.+-]*[.][a-zA-Z]*$\"\n",
    "  result = re.search(pattern, text)\n",
    "  return result != None\n",
    "\n",
    "print(check_web_address(\"gmail.com\")) # True\n",
    "print(check_web_address(\"www@google\")) # False\n",
    "print(check_web_address(\"www.Coursera.org\")) # True\n",
    "print(check_web_address(\"web-address.com/homepage\")) # False\n",
    "print(check_web_address(\"My_Favorite-Blog.US\")) # True"
   ]
  }
 ],
 "metadata": {
  "kernelspec": {
   "display_name": "Python 3",
   "language": "python",
   "name": "python3"
  },
  "language_info": {
   "codemirror_mode": {
    "name": "ipython",
    "version": 3
   },
   "file_extension": ".py",
   "mimetype": "text/x-python",
   "name": "python",
   "nbconvert_exporter": "python",
   "pygments_lexer": "ipython3",
   "version": "3.7.6"
  }
 },
 "nbformat": 4,
 "nbformat_minor": 4
}
