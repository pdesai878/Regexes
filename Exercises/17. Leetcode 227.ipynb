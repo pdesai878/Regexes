{
 "cells": [
  {
   "cell_type": "markdown",
   "metadata": {},
   "source": [
    "Basic Calculator II\n",
    "\n",
    "Given a string s which represents an expression, evaluate this expression and return its value. \n",
    "\n",
    "The integer division should truncate toward zero.\n",
    "\n",
    "Note: You are not allowed to use any built-in function which evaluates strings as mathematical expressions, such as eval()."
   ]
  },
  {
   "cell_type": "markdown",
   "metadata": {},
   "source": [
    "Example 1:\n",
    "\n",
    "Input: s = \"3+2*2\"\n",
    "Output: 7\n",
    "<br>\n",
    "Example 2:\n",
    "\n",
    "Input: s = \" 3/2 \"\n",
    "Output: 1\n",
    "<br>\n",
    "Example 3:\n",
    "\n",
    "Input: s = \" 3+5 / 2 \"\n",
    "Output: 5"
   ]
  },
  {
   "cell_type": "code",
   "execution_count": null,
   "metadata": {},
   "outputs": [],
   "source": [
    "import re\n",
    "class Solution:\n",
    "    def calculate(self, s: str) -> int:\n",
    "        characters=re.findall(r\"\\d+|\\-|\\+|\\/|\\*\", s)\n",
    "        stack=[]\n",
    "        op=\"+\"\n",
    "        for i in characters:\n",
    "            if i.isdigit():\n",
    "                if op==\"+\":stack.append(int(i))\n",
    "                elif op==\"-\":stack.append(-int(i))\n",
    "                elif op==\"*\":stack.append(int(i)*stack.pop())\n",
    "                elif op==\"/\":stack.append(int(stack.pop()/float(i)))\n",
    "            else:\n",
    "                op=i\n",
    "        return sum(stack)"
   ]
  }
 ],
 "metadata": {
  "kernelspec": {
   "display_name": "Python 3",
   "language": "python",
   "name": "python3"
  },
  "language_info": {
   "codemirror_mode": {
    "name": "ipython",
    "version": 3
   },
   "file_extension": ".py",
   "mimetype": "text/x-python",
   "name": "python",
   "nbconvert_exporter": "python",
   "pygments_lexer": "ipython3",
   "version": "3.7.6"
  }
 },
 "nbformat": 4,
 "nbformat_minor": 4
}
