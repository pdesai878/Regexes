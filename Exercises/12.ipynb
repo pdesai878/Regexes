{
 "cells": [
  {
   "cell_type": "markdown",
   "metadata": {},
   "source": [
    "# Create a function that would extract the PID when possible and returns something else if not possible."
   ]
  },
  {
   "cell_type": "code",
   "execution_count": 3,
   "metadata": {},
   "outputs": [
    {
     "name": "stdout",
     "output_type": "stream",
     "text": [
      "12345\n",
      "no pid found\n"
     ]
    }
   ],
   "source": [
    "import re\n",
    "def extract_pid(log_line):\n",
    "    regex=r\"\\[(\\d+)]\"\n",
    "    result=re.search(regex,log_line)\n",
    "    if result is None:\n",
    "        return \"no pid found\"\n",
    "    return result[1]\n",
    "\n",
    "print(extract_pid(\"July 31 07:51:48 mycomputer bad_process [12345]: ERROR Performing package upgrade\"))\n",
    "print(extract_pid(\"99 elephants in the [cage]\"))"
   ]
  }
 ],
 "metadata": {
  "kernelspec": {
   "display_name": "Python 3",
   "language": "python",
   "name": "python3"
  },
  "language_info": {
   "codemirror_mode": {
    "name": "ipython",
    "version": 3
   },
   "file_extension": ".py",
   "mimetype": "text/x-python",
   "name": "python",
   "nbconvert_exporter": "python",
   "pygments_lexer": "ipython3",
   "version": "3.7.6"
  }
 },
 "nbformat": 4,
 "nbformat_minor": 4
}
