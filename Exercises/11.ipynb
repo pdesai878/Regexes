{
 "cells": [
  {
   "cell_type": "markdown",
   "metadata": {},
   "source": [
    "# Create a function that would do the rearranging of name. i.e lastname comma firstname --> firstname lastname."
   ]
  },
  {
   "cell_type": "code",
   "execution_count": 2,
   "metadata": {},
   "outputs": [
    {
     "name": "stdout",
     "output_type": "stream",
     "text": [
      "Parth Desai\n"
     ]
    }
   ],
   "source": [
    "import re\n",
    "def rearrange_name(name):\n",
    "    result=re.search(r\"^(\\w*),(\\w*)$\",name)\n",
    "    if result is None:\n",
    "        return name\n",
    "    return \"{} {}\".format(result[2],result[1])\n",
    "\n",
    "print(rearrange_name(\"Desai,Parth\"))"
   ]
  },
  {
   "cell_type": "raw",
   "metadata": {},
   "source": [
    "print(rearrange_name(\"Hopper,Grace M.\"))\n",
    "-> regular expression didn't match \n",
    "-> since we used \\w, it didn't recognize middle initial as part of the given name.\n",
    "\n",
    "\n",
    "What you need to do here is add the extra characters that we want to allow in the names.\n",
    "pattern=\"^([\\w\\.-]*),([\\w\\.-]*)$\""
   ]
  }
 ],
 "metadata": {
  "kernelspec": {
   "display_name": "Python 3",
   "language": "python",
   "name": "python3"
  },
  "language_info": {
   "codemirror_mode": {
    "name": "ipython",
    "version": 3
   },
   "file_extension": ".py",
   "mimetype": "text/x-python",
   "name": "python",
   "nbconvert_exporter": "python",
   "pygments_lexer": "ipython3",
   "version": "3.7.6"
  }
 },
 "nbformat": 4,
 "nbformat_minor": 4
}
