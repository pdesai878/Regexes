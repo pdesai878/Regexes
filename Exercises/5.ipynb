{
 "cells": [
  {
   "cell_type": "markdown",
   "metadata": {},
   "source": [
    "# Check whether the string is a valid variable name in Python\n"
   ]
  },
  {
   "cell_type": "code",
   "execution_count": 1,
   "metadata": {},
   "outputs": [
    {
     "name": "stdout",
     "output_type": "stream",
     "text": [
      "True\n",
      "True\n",
      "False\n",
      "True\n"
     ]
    }
   ],
   "source": [
    "import re\n",
    "def check_valid_var_name(text):\n",
    "    pattern=\"^[a-zA-Z_][a-zA-Z0-9_]*$\"\n",
    "    result=re.search(pattern,text)\n",
    "    return result!=None\n",
    "\n",
    "print(check_valid_var_name(\"var1\")) #True\n",
    "print(check_valid_var_name(\"_pd\"))  #True\n",
    "print(check_valid_var_name(\"9ab\"))  #False\n",
    "print(check_valid_var_name(\"this_is_a_valid_variable_name\")) #True"
   ]
  }
 ],
 "metadata": {
  "kernelspec": {
   "display_name": "Python 3",
   "language": "python",
   "name": "python3"
  },
  "language_info": {
   "codemirror_mode": {
    "name": "ipython",
    "version": 3
   },
   "file_extension": ".py",
   "mimetype": "text/x-python",
   "name": "python",
   "nbconvert_exporter": "python",
   "pygments_lexer": "ipython3",
   "version": "3.7.6"
  }
 },
 "nbformat": 4,
 "nbformat_minor": 4
}
